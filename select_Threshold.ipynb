{
 "cells": [
  {
   "cell_type": "markdown",
   "metadata": {},
   "source": [
    "This code generate the residual life and stability images to define the threshold:\n",
    "    \n",
    "First cel =Libraries needed\n",
    "Second cel =Operational Functions and Main Function"
   ]
  },
  {
   "cell_type": "code",
   "execution_count": 1,
   "metadata": {},
   "outputs": [],
   "source": [
    "from pyextremes import plot_parameter_stability,plot_mean_residual_life\n",
    "import mikeio\n",
    "import os\n",
    "import pandas as pd\n"
   ]
  },
  {
   "cell_type": "code",
   "execution_count": 4,
   "metadata": {},
   "outputs": [
    {
     "name": "stdout",
     "output_type": "stream",
     "text": [
      "ResidualLife_Fig saved!\n",
      "Stability_Fig saved!\n",
      "ResidualLife_Fig saved!\n",
      "Stability_Fig saved!\n",
      "ResidualLife_Fig saved!\n",
      "Stability_Fig saved!\n",
      "ResidualLife_Fig saved!\n",
      "Stability_Fig saved!\n",
      "ResidualLife_Fig saved!\n",
      "Stability_Fig saved!\n",
      "ResidualLife_Fig saved!\n",
      "Stability_Fig saved!\n",
      "ResidualLife_Fig saved!\n",
      "Stability_Fig saved!\n",
      "ResidualLife_Fig saved!\n",
      "Stability_Fig saved!\n",
      "ResidualLife_Fig saved!\n",
      "Stability_Fig saved!\n",
      "ResidualLife_Fig saved!\n",
      "Stability_Fig saved!\n",
      "ResidualLife_Fig saved!\n"
     ]
    },
    {
     "name": "stderr",
     "output_type": "stream",
     "text": [
      "C:\\Users\\test\\Desktop\\Scripts\\Scripts\\Lib\\site-packages\\pyextremes\\tuning\\threshold_selection.py:139: RuntimeWarning: More than 20 figures have been opened. Figures created through the pyplot interface (`matplotlib.pyplot.figure`) are retained until explicitly closed and may consume too much memory. (To control this warning, see the rcParam `figure.max_open_warning`). Consider using `matplotlib.pyplot.close()`.\n",
      "  _, ax = plt.subplots(figsize=figsize, dpi=96)\n"
     ]
    },
    {
     "name": "stdout",
     "output_type": "stream",
     "text": [
      "Stability_Fig saved!\n",
      "ResidualLife_Fig saved!\n",
      "Stability_Fig saved!\n",
      "ResidualLife_Fig saved!\n",
      "Stability_Fig saved!\n",
      "ResidualLife_Fig saved!\n",
      "Stability_Fig saved!\n",
      "ResidualLife_Fig saved!\n",
      "Stability_Fig saved!\n",
      "ResidualLife_Fig saved!\n",
      "Stability_Fig saved!\n",
      "ResidualLife_Fig saved!\n",
      "Stability_Fig saved!\n"
     ]
    }
   ],
   "source": [
    "######################################## Operational Functions #############################################\n",
    "#Create series for analysis\n",
    "def get_dfseries(df,variable):\n",
    "    \n",
    "    if variable in ['Wind Speed']:\n",
    "        series=df.loc[:][variable]\n",
    "    elif variable in ['Current Speed']:\n",
    "        series=df.loc[:][variable]\n",
    "    elif variable in ['Hm0']:\n",
    "        series=df.loc[:][variable]\n",
    "    elif variable in ['Hmax']:\n",
    "        series=df.loc[:][variable]\n",
    "    elif variable in ['Air Temperature']:\n",
    "        series=df.loc[:][variable]\n",
    "    elif variable in ['Sea Water Temperature']:\n",
    "        series=df.loc[:][variable]\n",
    "    elif variable in ['Water Level']:\n",
    "        series=df.loc[:][variable]\n",
    "    return series\n",
    "#Create Folders\n",
    "def create_folder_result(point,variable,depth):\n",
    "\n",
    "    if variable in ['Wind Speed','Current Speed']:\n",
    "        variable = variable.split(' ')[0]\n",
    "        \n",
    "    if str(depth) =='nan':\n",
    "        path_results='C:/Users/test/Desktop/Scripts/Extreme/Results/'+'/'+point+'/'+variable+'/Threshold/'\n",
    "        if not os.path.exists(path_results):    \n",
    "            os.makedirs(path_results)\n",
    "    else:        \n",
    "        path_results='C:/Users/test/Desktop/Scripts/Extreme/Results/'+point+'/'+variable+'/'+depth+'/Threshold/'\n",
    "        if not os.path.exists(path_results):    \n",
    "            os.makedirs(path_results) \n",
    "\n",
    "    return path_results\n",
    "\n",
    "def create_figures(path_results,series,name):\n",
    "\n",
    "    ResidualLife_Fig=plot_mean_residual_life(series).figure\n",
    "    ResidualLife_Fig.savefig(path_results+'ResidualLife_'+name+'.png',bbox_inches='tight')\n",
    "    print('ResidualLife_Fig saved!')\n",
    "    Stability=plot_parameter_stability(series)\n",
    "    Stability_Fig=Stability[0].figure\n",
    "    Stability_Fig.savefig(path_results+'Stability_'+name+'.png',bbox_inches='tight')\n",
    "    print('Stability_Fig saved!')\n",
    "\n",
    "######################################## Main Function #####################################################\n",
    "    \n",
    "#User Input\n",
    "df_info=pd.read_csv('C:/Users/test/Desktop/Scripts/Extreme/Extreme_Analysis.csv',sep=';',encoding='latin-1')\n",
    "time_selected=\"36h\"\n",
    "\n",
    "#Read dfs0\n",
    "for d in range(len(df_info)):\n",
    "    if df_info.loc[d]['Index'] == 1:\n",
    "        if df_info.loc[d]['Direction'] =='Omnidirectional':\n",
    "            path_input='C:/Users/test/Desktop/Scripts/Extreme/Omnidirectional/'\n",
    "            path_result=create_folder_result(df_info.loc[d]['Points'],df_info.loc[d]['Variable'],df_info.loc[d]['Depth'])\n",
    "            ds=mikeio.read(path_input+df_info.loc[d]['File']+'.dfs0')\n",
    "            df=ds.to_dataframe()\n",
    "            series=get_dfseries(df,df_info.loc[d]['Variable'])\n",
    "            create_figures(path_result,series,'Omnidirectional')\n",
    "        else:\n",
    "            path_input='C:/Users/test/Desktop/Scripts/Extreme/Directional/'+df_info.loc[d]['File']+'/'\n",
    "            path_result=create_folder_result(df_info.loc[d]['Points'],df_info.loc[d]['Variable'],df_info.loc[d]['Depth'])\n",
    "            direction='dfs_'+df_info.loc[d]['Direction']\n",
    "            ds=mikeio.read(path_input+direction+'.dfs0')\n",
    "            df=ds.to_dataframe()\n",
    "            series=get_dfseries(df,df_info.loc[d]['Variable'])\n",
    "            create_figures(path_result,series,direction)\n",
    "    else:\n",
    "        pass"
   ]
  }
 ],
 "metadata": {
  "kernelspec": {
   "display_name": "Python 3 (ipykernel)",
   "language": "python",
   "name": "python3"
  },
  "language_info": {
   "codemirror_mode": {
    "name": "ipython",
    "version": 3
   },
   "file_extension": ".py",
   "mimetype": "text/x-python",
   "name": "python",
   "nbconvert_exporter": "python",
   "pygments_lexer": "ipython3",
   "version": "3.12.3"
  },
  "orig_nbformat": 4
 },
 "nbformat": 4,
 "nbformat_minor": 2
}
